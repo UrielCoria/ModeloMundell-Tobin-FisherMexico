{
 "cells": [
  {
   "cell_type": "code",
   "execution_count": 1,
   "metadata": {},
   "outputs": [],
   "source": [
    "import pandas as pd\n",
    "import statsmodels.api as sm\n",
    "import matplotlib.pyplot as plt\n",
    "import numpy as np\n",
    "import seaborn as sn\n",
    "from statsmodels.stats.diagnostic import acorr_breusch_godfrey as bg\n",
    "from statsmodels.stats.diagnostic import het_white as wh\n",
    "from statsmodels.tsa import filters as hp"
   ]
  },
  {
   "cell_type": "code",
   "execution_count": 2,
   "metadata": {},
   "outputs": [],
   "source": [
    "Datos= pd.read_csv(\"data.csv\", parse_dates = [\"Periodos\"],index_col = \"Periodos\")"
   ]
  },
  {
   "cell_type": "code",
   "execution_count": 3,
   "metadata": {},
   "outputs": [
    {
     "data": {
      "text/html": [
       "<div>\n",
       "<style scoped>\n",
       "    .dataframe tbody tr th:only-of-type {\n",
       "        vertical-align: middle;\n",
       "    }\n",
       "\n",
       "    .dataframe tbody tr th {\n",
       "        vertical-align: top;\n",
       "    }\n",
       "\n",
       "    .dataframe thead th {\n",
       "        text-align: right;\n",
       "    }\n",
       "</style>\n",
       "<table border=\"1\" class=\"dataframe\">\n",
       "  <thead>\n",
       "    <tr style=\"text-align: right;\">\n",
       "      <th></th>\n",
       "      <th>INF</th>\n",
       "      <th>M2</th>\n",
       "      <th>LP</th>\n",
       "      <th>PIB</th>\n",
       "      <th>INPC</th>\n",
       "      <th>i</th>\n",
       "      <th>dPIB</th>\n",
       "    </tr>\n",
       "    <tr>\n",
       "      <th>Periodos</th>\n",
       "      <th></th>\n",
       "      <th></th>\n",
       "      <th></th>\n",
       "      <th></th>\n",
       "      <th></th>\n",
       "      <th></th>\n",
       "      <th></th>\n",
       "    </tr>\n",
       "  </thead>\n",
       "  <tbody>\n",
       "    <tr>\n",
       "      <th>2001-02-01</th>\n",
       "      <td>0.323333</td>\n",
       "      <td>21.338578</td>\n",
       "      <td>21.015245</td>\n",
       "      <td>16.214809</td>\n",
       "      <td>49.211214</td>\n",
       "      <td>14.030000</td>\n",
       "      <td>16.221086</td>\n",
       "    </tr>\n",
       "    <tr>\n",
       "      <th>2001-03-01</th>\n",
       "      <td>0.420000</td>\n",
       "      <td>21.383723</td>\n",
       "      <td>20.963723</td>\n",
       "      <td>16.222004</td>\n",
       "      <td>49.546090</td>\n",
       "      <td>10.446667</td>\n",
       "      <td>16.214809</td>\n",
       "    </tr>\n",
       "    <tr>\n",
       "      <th>2001-04-01</th>\n",
       "      <td>0.323333</td>\n",
       "      <td>21.430301</td>\n",
       "      <td>21.106967</td>\n",
       "      <td>16.224837</td>\n",
       "      <td>50.325394</td>\n",
       "      <td>9.060000</td>\n",
       "      <td>16.222004</td>\n",
       "    </tr>\n",
       "    <tr>\n",
       "      <th>2002-01-01</th>\n",
       "      <td>0.456667</td>\n",
       "      <td>21.429823</td>\n",
       "      <td>20.973157</td>\n",
       "      <td>16.220931</td>\n",
       "      <td>50.965390</td>\n",
       "      <td>8.476667</td>\n",
       "      <td>16.224837</td>\n",
       "    </tr>\n",
       "    <tr>\n",
       "      <th>2002-02-01</th>\n",
       "      <td>0.413333</td>\n",
       "      <td>21.440093</td>\n",
       "      <td>21.026759</td>\n",
       "      <td>16.230556</td>\n",
       "      <td>51.560417</td>\n",
       "      <td>7.666667</td>\n",
       "      <td>16.220931</td>\n",
       "    </tr>\n",
       "    <tr>\n",
       "      <th>...</th>\n",
       "      <td>...</td>\n",
       "      <td>...</td>\n",
       "      <td>...</td>\n",
       "      <td>...</td>\n",
       "      <td>...</td>\n",
       "      <td>...</td>\n",
       "      <td>...</td>\n",
       "    </tr>\n",
       "    <tr>\n",
       "      <th>2019-03-01</th>\n",
       "      <td>0.206667</td>\n",
       "      <td>22.922548</td>\n",
       "      <td>22.715882</td>\n",
       "      <td>16.593120</td>\n",
       "      <td>103.766333</td>\n",
       "      <td>8.350000</td>\n",
       "      <td>16.597391</td>\n",
       "    </tr>\n",
       "    <tr>\n",
       "      <th>2019-04-01</th>\n",
       "      <td>0.636667</td>\n",
       "      <td>22.936592</td>\n",
       "      <td>22.299925</td>\n",
       "      <td>16.586162</td>\n",
       "      <td>105.261000</td>\n",
       "      <td>7.856667</td>\n",
       "      <td>16.593120</td>\n",
       "    </tr>\n",
       "    <tr>\n",
       "      <th>2020-01-01</th>\n",
       "      <td>0.283333</td>\n",
       "      <td>22.970720</td>\n",
       "      <td>22.687387</td>\n",
       "      <td>16.570365</td>\n",
       "      <td>106.724667</td>\n",
       "      <td>7.340000</td>\n",
       "      <td>16.586162</td>\n",
       "    </tr>\n",
       "    <tr>\n",
       "      <th>2020-02-01</th>\n",
       "      <td>-0.026667</td>\n",
       "      <td>23.036242</td>\n",
       "      <td>23.062909</td>\n",
       "      <td>16.324749</td>\n",
       "      <td>106.220000</td>\n",
       "      <td>6.063333</td>\n",
       "      <td>16.570365</td>\n",
       "    </tr>\n",
       "    <tr>\n",
       "      <th>2020-03-01</th>\n",
       "      <td>0.426667</td>\n",
       "      <td>23.041500</td>\n",
       "      <td>22.614833</td>\n",
       "      <td>16.443904</td>\n",
       "      <td>107.808333</td>\n",
       "      <td>4.973333</td>\n",
       "      <td>16.324749</td>\n",
       "    </tr>\n",
       "  </tbody>\n",
       "</table>\n",
       "<p>78 rows × 7 columns</p>\n",
       "</div>"
      ],
      "text/plain": [
       "                 INF         M2         LP        PIB        INPC          i  \\\n",
       "Periodos                                                                       \n",
       "2001-02-01  0.323333  21.338578  21.015245  16.214809   49.211214  14.030000   \n",
       "2001-03-01  0.420000  21.383723  20.963723  16.222004   49.546090  10.446667   \n",
       "2001-04-01  0.323333  21.430301  21.106967  16.224837   50.325394   9.060000   \n",
       "2002-01-01  0.456667  21.429823  20.973157  16.220931   50.965390   8.476667   \n",
       "2002-02-01  0.413333  21.440093  21.026759  16.230556   51.560417   7.666667   \n",
       "...              ...        ...        ...        ...         ...        ...   \n",
       "2019-03-01  0.206667  22.922548  22.715882  16.593120  103.766333   8.350000   \n",
       "2019-04-01  0.636667  22.936592  22.299925  16.586162  105.261000   7.856667   \n",
       "2020-01-01  0.283333  22.970720  22.687387  16.570365  106.724667   7.340000   \n",
       "2020-02-01 -0.026667  23.036242  23.062909  16.324749  106.220000   6.063333   \n",
       "2020-03-01  0.426667  23.041500  22.614833  16.443904  107.808333   4.973333   \n",
       "\n",
       "                 dPIB  \n",
       "Periodos               \n",
       "2001-02-01  16.221086  \n",
       "2001-03-01  16.214809  \n",
       "2001-04-01  16.222004  \n",
       "2002-01-01  16.224837  \n",
       "2002-02-01  16.220931  \n",
       "...               ...  \n",
       "2019-03-01  16.597391  \n",
       "2019-04-01  16.593120  \n",
       "2020-01-01  16.586162  \n",
       "2020-02-01  16.570365  \n",
       "2020-03-01  16.324749  \n",
       "\n",
       "[78 rows x 7 columns]"
      ]
     },
     "execution_count": 3,
     "metadata": {},
     "output_type": "execute_result"
    }
   ],
   "source": [
    "Datos[\"PIB\"]=np.log(Datos['PIB'])\n",
    "Datos[\"M2\"]=np.log(Datos['M2'])\n",
    "Datos[\"dPIB\"] = Datos['PIB'].shift()\n",
    "Datos=Datos.dropna()\n",
    "Datos"
   ]
  },
  {
   "cell_type": "code",
   "execution_count": 4,
   "metadata": {},
   "outputs": [
    {
     "data": {
      "text/html": [
       "<div>\n",
       "<style scoped>\n",
       "    .dataframe tbody tr th:only-of-type {\n",
       "        vertical-align: middle;\n",
       "    }\n",
       "\n",
       "    .dataframe tbody tr th {\n",
       "        vertical-align: top;\n",
       "    }\n",
       "\n",
       "    .dataframe thead th {\n",
       "        text-align: right;\n",
       "    }\n",
       "</style>\n",
       "<table border=\"1\" class=\"dataframe\">\n",
       "  <thead>\n",
       "    <tr style=\"text-align: right;\">\n",
       "      <th></th>\n",
       "      <th>INF</th>\n",
       "      <th>M2</th>\n",
       "      <th>LP</th>\n",
       "      <th>PIB</th>\n",
       "      <th>INPC</th>\n",
       "      <th>i</th>\n",
       "      <th>dPIB</th>\n",
       "      <th>r</th>\n",
       "    </tr>\n",
       "    <tr>\n",
       "      <th>Periodos</th>\n",
       "      <th></th>\n",
       "      <th></th>\n",
       "      <th></th>\n",
       "      <th></th>\n",
       "      <th></th>\n",
       "      <th></th>\n",
       "      <th></th>\n",
       "      <th></th>\n",
       "    </tr>\n",
       "  </thead>\n",
       "  <tbody>\n",
       "    <tr>\n",
       "      <th>2001-02-01</th>\n",
       "      <td>0.323333</td>\n",
       "      <td>21.338578</td>\n",
       "      <td>21.015245</td>\n",
       "      <td>16.214809</td>\n",
       "      <td>49.211214</td>\n",
       "      <td>14.030000</td>\n",
       "      <td>16.221086</td>\n",
       "      <td>13.706667</td>\n",
       "    </tr>\n",
       "    <tr>\n",
       "      <th>2001-03-01</th>\n",
       "      <td>0.420000</td>\n",
       "      <td>21.383723</td>\n",
       "      <td>20.963723</td>\n",
       "      <td>16.222004</td>\n",
       "      <td>49.546090</td>\n",
       "      <td>10.446667</td>\n",
       "      <td>16.214809</td>\n",
       "      <td>10.026667</td>\n",
       "    </tr>\n",
       "    <tr>\n",
       "      <th>2001-04-01</th>\n",
       "      <td>0.323333</td>\n",
       "      <td>21.430301</td>\n",
       "      <td>21.106967</td>\n",
       "      <td>16.224837</td>\n",
       "      <td>50.325394</td>\n",
       "      <td>9.060000</td>\n",
       "      <td>16.222004</td>\n",
       "      <td>8.736667</td>\n",
       "    </tr>\n",
       "    <tr>\n",
       "      <th>2002-01-01</th>\n",
       "      <td>0.456667</td>\n",
       "      <td>21.429823</td>\n",
       "      <td>20.973157</td>\n",
       "      <td>16.220931</td>\n",
       "      <td>50.965390</td>\n",
       "      <td>8.476667</td>\n",
       "      <td>16.224837</td>\n",
       "      <td>8.020000</td>\n",
       "    </tr>\n",
       "    <tr>\n",
       "      <th>2002-02-01</th>\n",
       "      <td>0.413333</td>\n",
       "      <td>21.440093</td>\n",
       "      <td>21.026759</td>\n",
       "      <td>16.230556</td>\n",
       "      <td>51.560417</td>\n",
       "      <td>7.666667</td>\n",
       "      <td>16.220931</td>\n",
       "      <td>7.253333</td>\n",
       "    </tr>\n",
       "    <tr>\n",
       "      <th>...</th>\n",
       "      <td>...</td>\n",
       "      <td>...</td>\n",
       "      <td>...</td>\n",
       "      <td>...</td>\n",
       "      <td>...</td>\n",
       "      <td>...</td>\n",
       "      <td>...</td>\n",
       "      <td>...</td>\n",
       "    </tr>\n",
       "    <tr>\n",
       "      <th>2019-03-01</th>\n",
       "      <td>0.206667</td>\n",
       "      <td>22.922548</td>\n",
       "      <td>22.715882</td>\n",
       "      <td>16.593120</td>\n",
       "      <td>103.766333</td>\n",
       "      <td>8.350000</td>\n",
       "      <td>16.597391</td>\n",
       "      <td>8.143333</td>\n",
       "    </tr>\n",
       "    <tr>\n",
       "      <th>2019-04-01</th>\n",
       "      <td>0.636667</td>\n",
       "      <td>22.936592</td>\n",
       "      <td>22.299925</td>\n",
       "      <td>16.586162</td>\n",
       "      <td>105.261000</td>\n",
       "      <td>7.856667</td>\n",
       "      <td>16.593120</td>\n",
       "      <td>7.220000</td>\n",
       "    </tr>\n",
       "    <tr>\n",
       "      <th>2020-01-01</th>\n",
       "      <td>0.283333</td>\n",
       "      <td>22.970720</td>\n",
       "      <td>22.687387</td>\n",
       "      <td>16.570365</td>\n",
       "      <td>106.724667</td>\n",
       "      <td>7.340000</td>\n",
       "      <td>16.586162</td>\n",
       "      <td>7.056667</td>\n",
       "    </tr>\n",
       "    <tr>\n",
       "      <th>2020-02-01</th>\n",
       "      <td>-0.026667</td>\n",
       "      <td>23.036242</td>\n",
       "      <td>23.062909</td>\n",
       "      <td>16.324749</td>\n",
       "      <td>106.220000</td>\n",
       "      <td>6.063333</td>\n",
       "      <td>16.570365</td>\n",
       "      <td>6.090000</td>\n",
       "    </tr>\n",
       "    <tr>\n",
       "      <th>2020-03-01</th>\n",
       "      <td>0.426667</td>\n",
       "      <td>23.041500</td>\n",
       "      <td>22.614833</td>\n",
       "      <td>16.443904</td>\n",
       "      <td>107.808333</td>\n",
       "      <td>4.973333</td>\n",
       "      <td>16.324749</td>\n",
       "      <td>4.546667</td>\n",
       "    </tr>\n",
       "  </tbody>\n",
       "</table>\n",
       "<p>78 rows × 8 columns</p>\n",
       "</div>"
      ],
      "text/plain": [
       "                 INF         M2         LP        PIB        INPC          i  \\\n",
       "Periodos                                                                       \n",
       "2001-02-01  0.323333  21.338578  21.015245  16.214809   49.211214  14.030000   \n",
       "2001-03-01  0.420000  21.383723  20.963723  16.222004   49.546090  10.446667   \n",
       "2001-04-01  0.323333  21.430301  21.106967  16.224837   50.325394   9.060000   \n",
       "2002-01-01  0.456667  21.429823  20.973157  16.220931   50.965390   8.476667   \n",
       "2002-02-01  0.413333  21.440093  21.026759  16.230556   51.560417   7.666667   \n",
       "...              ...        ...        ...        ...         ...        ...   \n",
       "2019-03-01  0.206667  22.922548  22.715882  16.593120  103.766333   8.350000   \n",
       "2019-04-01  0.636667  22.936592  22.299925  16.586162  105.261000   7.856667   \n",
       "2020-01-01  0.283333  22.970720  22.687387  16.570365  106.724667   7.340000   \n",
       "2020-02-01 -0.026667  23.036242  23.062909  16.324749  106.220000   6.063333   \n",
       "2020-03-01  0.426667  23.041500  22.614833  16.443904  107.808333   4.973333   \n",
       "\n",
       "                 dPIB          r  \n",
       "Periodos                          \n",
       "2001-02-01  16.221086  13.706667  \n",
       "2001-03-01  16.214809  10.026667  \n",
       "2001-04-01  16.222004   8.736667  \n",
       "2002-01-01  16.224837   8.020000  \n",
       "2002-02-01  16.220931   7.253333  \n",
       "...               ...        ...  \n",
       "2019-03-01  16.597391   8.143333  \n",
       "2019-04-01  16.593120   7.220000  \n",
       "2020-01-01  16.586162   7.056667  \n",
       "2020-02-01  16.570365   6.090000  \n",
       "2020-03-01  16.324749   4.546667  \n",
       "\n",
       "[78 rows x 8 columns]"
      ]
     },
     "execution_count": 4,
     "metadata": {},
     "output_type": "execute_result"
    }
   ],
   "source": [
    "Datos[\"r\"] = Datos['i']-Datos['INF']\n",
    "Datos"
   ]
  },
  {
   "cell_type": "code",
   "execution_count": 5,
   "metadata": {},
   "outputs": [
    {
     "name": "stdout",
     "output_type": "stream",
     "text": [
      "                            OLS Regression Results                            \n",
      "==============================================================================\n",
      "Dep. Variable:                     LP   R-squared:                       0.640\n",
      "Model:                            OLS   Adj. R-squared:                  0.631\n",
      "Method:                 Least Squares   F-statistic:                     66.74\n",
      "Date:                Fri, 05 Mar 2021   Prob (F-statistic):           2.23e-17\n",
      "Time:                        17:43:02   Log-Likelihood:                -29.096\n",
      "No. Observations:                  78   AIC:                             64.19\n",
      "Df Residuals:                      75   BIC:                             71.26\n",
      "Df Model:                           2                                         \n",
      "Covariance Type:            nonrobust                                         \n",
      "==============================================================================\n",
      "                 coef    std err          t      P>|t|      [0.025      0.975]\n",
      "------------------------------------------------------------------------------\n",
      "const        -38.0595      6.203     -6.135      0.000     -50.417     -25.702\n",
      "PIB            3.6649      0.375      9.785      0.000       2.919       4.411\n",
      "i             -0.0441      0.020     -2.154      0.034      -0.085      -0.003\n",
      "==============================================================================\n",
      "Omnibus:                       26.298   Durbin-Watson:                   1.536\n",
      "Prob(Omnibus):                  0.000   Jarque-Bera (JB):               52.718\n",
      "Skew:                           1.192   Prob(JB):                     3.57e-12\n",
      "Kurtosis:                       6.245   Cond. No.                     2.72e+03\n",
      "==============================================================================\n",
      "\n",
      "Notes:\n",
      "[1] Standard Errors assume that the covariance matrix of the errors is correctly specified.\n",
      "[2] The condition number is large, 2.72e+03. This might indicate that there are\n",
      "strong multicollinearity or other numerical problems.\n"
     ]
    }
   ],
   "source": [
    "Exog1 = Datos[['PIB','i']]\n",
    "Exog1 = sm.add_constant(Exog1)\n",
    "Mod1 = sm.OLS(Datos.LP, Exog1)\n",
    "print(Mod1.fit().summary())"
   ]
  },
  {
   "cell_type": "markdown",
   "metadata": {},
   "source": [
    "#### Los resultados de la estimación son positivos respecto a la teoría, esto debido a que los signos esperados se cumplen, al igual que los estadisticos son significativos.\n",
    "#### Sin embargo, se realizaran pruebas de autocorrelación, heterocedasticidad y multicolinealidad.\n",
    "#### Comenzamos obteniendo los residuos del modelo."
   ]
  },
  {
   "cell_type": "code",
   "execution_count": 6,
   "metadata": {},
   "outputs": [],
   "source": [
    "res1= Mod1.fit().resid"
   ]
  },
  {
   "cell_type": "code",
   "execution_count": 7,
   "metadata": {},
   "outputs": [
    {
     "data": {
      "text/plain": [
       "(13.653339117326997,\n",
       " 0.0010844638531696143,\n",
       " 7.744720098080918,\n",
       " 0.0008907309738474592)"
      ]
     },
     "execution_count": 7,
     "metadata": {},
     "output_type": "execute_result"
    }
   ],
   "source": [
    "bg(Mod1.fit(), nlags=2, store = False)"
   ]
  },
  {
   "cell_type": "markdown",
   "metadata": {},
   "source": [
    "#### La prueba Breusch-Godfrey comprueba la presencia de autocorrelación en el modelo, aunque debido a que estaremos respetando las bases teóricas por el momento, no se buscará solucionar dichos problemas con métodos como usar primeras diferencias."
   ]
  },
  {
   "cell_type": "code",
   "execution_count": 8,
   "metadata": {},
   "outputs": [
    {
     "data": {
      "text/plain": [
       "(2.5713237503182835,\n",
       " 0.7657173408984732,\n",
       " 0.49088839743146867,\n",
       " 0.7820153123500188)"
      ]
     },
     "execution_count": 8,
     "metadata": {},
     "output_type": "execute_result"
    }
   ],
   "source": [
    "wh(res1, Exog1)"
   ]
  },
  {
   "cell_type": "markdown",
   "metadata": {},
   "source": [
    "#### La prueba White comprueba la presencia de homocedasticidad en el modelo."
   ]
  },
  {
   "cell_type": "code",
   "execution_count": 9,
   "metadata": {},
   "outputs": [
    {
     "name": "stdout",
     "output_type": "stream",
     "text": [
      "                            OLS Regression Results                            \n",
      "==============================================================================\n",
      "Dep. Variable:                    PIB   R-squared:                       0.133\n",
      "Model:                            OLS   Adj. R-squared:                  0.121\n",
      "Method:                 Least Squares   F-statistic:                     11.63\n",
      "Date:                Fri, 05 Mar 2021   Prob (F-statistic):            0.00104\n",
      "Time:                        17:43:08   Log-Likelihood:                 62.681\n",
      "No. Observations:                  78   AIC:                            -121.4\n",
      "Df Residuals:                      76   BIC:                            -116.6\n",
      "Df Model:                           1                                         \n",
      "Covariance Type:            nonrobust                                         \n",
      "==============================================================================\n",
      "                 coef    std err          t      P>|t|      [0.025      0.975]\n",
      "------------------------------------------------------------------------------\n",
      "const         16.5522      0.038    429.957      0.000      16.476      16.629\n",
      "r             -0.0200      0.006     -3.410      0.001      -0.032      -0.008\n",
      "==============================================================================\n",
      "Omnibus:                        1.811   Durbin-Watson:                   0.126\n",
      "Prob(Omnibus):                  0.404   Jarque-Bera (JB):                1.793\n",
      "Skew:                           0.301   Prob(JB):                        0.408\n",
      "Kurtosis:                       2.564   Cond. No.                         20.7\n",
      "==============================================================================\n",
      "\n",
      "Notes:\n",
      "[1] Standard Errors assume that the covariance matrix of the errors is correctly specified.\n"
     ]
    }
   ],
   "source": [
    "Exog2 = Datos[['r']]\n",
    "Exog2 = sm.add_constant(Exog2)\n",
    "Mod2 = sm.OLS(Datos.PIB, Exog2)\n",
    "print(Mod2.fit().summary())"
   ]
  },
  {
   "cell_type": "code",
   "execution_count": 10,
   "metadata": {},
   "outputs": [],
   "source": [
    "res2= Mod2.fit().resid"
   ]
  },
  {
   "cell_type": "code",
   "execution_count": 11,
   "metadata": {},
   "outputs": [
    {
     "data": {
      "text/plain": [
       "(68.35722435200216,\n",
       " 1.4335648136818662e-15,\n",
       " 262.2914182960617,\n",
       " 2.558444561390689e-34)"
      ]
     },
     "execution_count": 11,
     "metadata": {},
     "output_type": "execute_result"
    }
   ],
   "source": [
    "bg(Mod2.fit(), nlags=2, store = False)"
   ]
  },
  {
   "cell_type": "markdown",
   "metadata": {},
   "source": [
    "#### La prueba Breusch-Godfrey comprueba la presencia de autocorrelación en el modelo, aunque debido a que estaremos respetando las bases teóricas como se había comentado antes, no se buscará solucionar dichos problemas con métodos como usar primeras diferencias."
   ]
  },
  {
   "cell_type": "code",
   "execution_count": 12,
   "metadata": {},
   "outputs": [
    {
     "data": {
      "text/plain": [
       "(15.351491717997956,\n",
       " 0.0004639443914194164,\n",
       " 9.18906060513986,\n",
       " 0.0002695286543819831)"
      ]
     },
     "execution_count": 12,
     "metadata": {},
     "output_type": "execute_result"
    }
   ],
   "source": [
    "wh(res2, Exog2)"
   ]
  },
  {
   "cell_type": "markdown",
   "metadata": {},
   "source": [
    "#### La prueba White comprueba la presencia de heterocedasticidad en el modelo.\n"
   ]
  },
  {
   "cell_type": "code",
   "execution_count": 13,
   "metadata": {},
   "outputs": [
    {
     "data": {
      "image/png": "[encoded data removed]",
      "text/plain": [
       "<Figure size 432x288 with 2 Axes>"
      ]
     },
     "metadata": {
      "needs_background": "light"
     },
     "output_type": "display_data"
    }
   ],
   "source": [
    "MatrizCorr1 = Datos.corr()\n",
    "sn.heatmap(MatrizCorr1, annot=True)\n",
    "plt.show()"
   ]
  },
  {
   "cell_type": "markdown",
   "metadata": {},
   "source": [
    "#### La correlación de \"LP\" con el \"PIB\" e \"i\" siendo menor a 0.8 por lo que no hay Multicolinealidad.\n",
    "#### La correlación de \"PIB\" con el \"r\" siendo menor a 0.8 por lo que no hay Multicolinealidad."
   ]
  },
  {
   "cell_type": "markdown",
   "metadata": {},
   "source": [
    "## A continuación se ocupará el filtro Hodrick-Prescott para obtener las tendencias y ciclos de las variables a tratar."
   ]
  },
  {
   "cell_type": "code",
   "execution_count": 14,
   "metadata": {},
   "outputs": [],
   "source": [
    "PIB_ciclo, PIB_tenden = hp.hp_filter.hpfilter(Datos.PIB, lamb=1600)\n",
    "PIB_decomp = Datos[['PIB']].copy()\n",
    "PIB_decomp[\"ciclo\"] = PIB_ciclo\n",
    "PIB_decomp[\"tenden\"] = PIB_tenden"
   ]
  },
  {
   "cell_type": "code",
   "execution_count": 15,
   "metadata": {},
   "outputs": [
    {
     "data": {
      "image/png": "[encoded data removed]",
      "text/plain": [
       "<Figure size 1008x432 with 1 Axes>"
      ]
     },
     "metadata": {
      "needs_background": "light"
     },
     "output_type": "display_data"
    }
   ],
   "source": [
    "fig = plt.figure(figsize=(14,6))\n",
    "ax = fig.add_subplot(111)\n",
    "PIB_decomp[[\"PIB\", \"tenden\"]][\"2001-01-01\":].plot(ax=ax, fontsize=16);\n",
    "legend = ax.get_legend()\n",
    "legend.prop.set_size(20);\n",
    "\n",
    "plt.grid(color='c', linestyle='--')\n",
    "\n",
    "plt.fill_between(Datos.index, y1=Datos[\"PIB\"], y2=PIB_tenden, alpha=0.15, label=\"Componente Ciclico\", color='b')\n",
    "plt.title('PIB, PIB potencial', fontsize=18)\n",
    "plt.xlabel('Periodo', fontsize=18)\n",
    "plt.ylabel('Puntos Porcentuales', fontsize=18)\n",
    "plt.legend(loc='upper left')\n",
    "plt.savefig(\"Gráfica_1.pdf\", bbox_inches='tight')"
   ]
  }
 ],
 "metadata": {
  "kernelspec": {
   "display_name": "Python 3",
   "language": "python",
   "name": "python3"
  },
  "language_info": {
   "codemirror_mode": {
    "name": "ipython",
    "version": 3
   },
   "file_extension": ".py",
   "mimetype": "text/x-python",
   "name": "python",
   "nbconvert_exporter": "python",
   "pygments_lexer": "ipython3",
   "version": "3.8.5"
  }
 },
 "nbformat": 4,
 "nbformat_minor": 4
}
